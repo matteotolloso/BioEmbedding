{
 "cells": [
  {
   "attachments": {},
   "cell_type": "markdown",
   "metadata": {},
   "source": [
    "# Examples of the shape of the embeddings from different models"
   ]
  },
  {
   "cell_type": "code",
   "execution_count": 12,
   "metadata": {},
   "outputs": [],
   "source": [
    "import utils\n",
    "import json\n",
    "import numpy as np\n",
    "from Bio.Seq import Seq"
   ]
  },
  {
   "attachments": {},
   "cell_type": "markdown",
   "metadata": {},
   "source": [
    "Create the json file to store the annotations for a dataset"
   ]
  },
  {
   "cell_type": "code",
   "execution_count": 3,
   "metadata": {},
   "outputs": [],
   "source": [
    "#utils.fasta_to_json(fasta_file_path = \"dataset/enrichment_test/proteins.fasta\", json_file_path = \"dataset/enrichment_test/proteins.json\" )\n",
    "\n",
    "utils.fasta_to_json(fasta_file_path = \"dataset/globins/globins.fasta\", json_file_path = \"dataset/globins/globins.json\" )\n",
    "\n",
    "utils.fasta_to_json(fasta_file_path = \"dataset/NEIS2157/NEIS2157.fasta\", json_file_path = \"dataset/NEIS2157/NEIS2157.json\" )\n",
    "\n"
   ]
  },
  {
   "attachments": {},
   "cell_type": "markdown",
   "metadata": {},
   "source": [
    "Annotate the json file with the embeddings we want (the scrips in folders 1, 2, 3 and the repo of alphafold)"
   ]
  },
  {
   "attachments": {},
   "cell_type": "markdown",
   "metadata": {},
   "source": [
    "... ... ..."
   ]
  },
  {
   "attachments": {},
   "cell_type": "markdown",
   "metadata": {},
   "source": [
    "Now we can load again the file, with the embeddings associated to each sequence"
   ]
  },
  {
   "cell_type": "code",
   "execution_count": 4,
   "metadata": {},
   "outputs": [
    {
     "data": {
      "text/plain": [
       "dict_keys(['NM_000517.6', 'NM_000518.5', 'NM_000558.5', 'NM_005368.3', 'NM_134268.5', 'NM_001003938.4'])"
      ]
     },
     "execution_count": 4,
     "metadata": {},
     "output_type": "execute_result"
    }
   ],
   "source": [
    "seq_dict = {}\n",
    "with open(\"dataset/globins/globins.json\") as file:\n",
    "    seq_dict = json.load(file)\n",
    "\n",
    "seq_dict.keys()"
   ]
  },
  {
   "attachments": {},
   "cell_type": "markdown",
   "metadata": {},
   "source": [
    "### 1 - Rep\n",
    "\n",
    "In the embedding rep, a 64-dim vector is the embedding of the entire protein sequence"
   ]
  },
  {
   "cell_type": "code",
   "execution_count": 14,
   "metadata": {},
   "outputs": [
    {
     "name": "stdout",
     "output_type": "stream",
     "text": [
      "189\n",
      "(64,)\n"
     ]
    }
   ],
   "source": [
    "sequence = seq_dict[\"NM_000517.6\"][\"sequence\"]\n",
    "sequence = str(Seq(sequence).translate(stop_symbol=\"\")) # translate to protein sequence\n",
    "\n",
    "embedding = np.array(seq_dict[\"NM_000517.6\"][\"rep\"])\n",
    "\n",
    "print(len(sequence))\n",
    "print(embedding.shape)"
   ]
  },
  {
   "attachments": {},
   "cell_type": "markdown",
   "metadata": {},
   "source": [
    "### 2 - DnaBert\n",
    "In the embedding 2 (dnabert) each row is the embedding of a 512-len subsequence of the original sequence. The dimension of the embedding space is 768."
   ]
  },
  {
   "cell_type": "code",
   "execution_count": 16,
   "metadata": {},
   "outputs": [
    {
     "name": "stdout",
     "output_type": "stream",
     "text": [
      "576\n",
      "(2, 768)\n"
     ]
    }
   ],
   "source": [
    "sequence = seq_dict[\"NM_000517.6\"][\"sequence\"]\n",
    "# not translate to protein sequence because dna bert can handle dna sequence\n",
    "\n",
    "embedding = np.array(seq_dict[\"NM_000517.6\"][\"dnabert\"])\n",
    "\n",
    "print(len(sequence))\n",
    "print(embedding.shape)"
   ]
  },
  {
   "attachments": {},
   "cell_type": "markdown",
   "metadata": {},
   "source": [
    "### 3 - Prose\n",
    "\n",
    "In the embedding 3 (prose) each row is the embedding of a single amminoacid of the sequence. The dimension of the embedding space is 100 (but we could also use the entire network stack instead of only the last layer, in this case the dimension will be 6165)."
   ]
  },
  {
   "cell_type": "code",
   "execution_count": 17,
   "metadata": {},
   "outputs": [
    {
     "name": "stdout",
     "output_type": "stream",
     "text": [
      "189\n",
      "(189, 100)\n"
     ]
    }
   ],
   "source": [
    "sequence = seq_dict[\"NM_000517.6\"][\"sequence\"]\n",
    "sequence = str(Seq(sequence).translate(stop_symbol=\"\")) # translate to protein sequence\n",
    "\n",
    "embedding = np.array(seq_dict[\"NM_000517.6\"][\"prose\"])\n",
    "\n",
    "print(len(sequence))\n",
    "print(embedding.shape)"
   ]
  },
  {
   "attachments": {},
   "cell_type": "markdown",
   "metadata": {},
   "source": [
    "### 4 - AlphaFold\n",
    "\n",
    "Embedding generated with alphafold, each row is the embedding for a single amminoacid and the embedding sequence space has 384 dimensions"
   ]
  },
  {
   "cell_type": "code",
   "execution_count": 18,
   "metadata": {},
   "outputs": [
    {
     "name": "stdout",
     "output_type": "stream",
     "text": [
      "189\n",
      "(189, 384)\n"
     ]
    }
   ],
   "source": [
    "sequence = seq_dict[\"NM_000517.6\"][\"sequence\"]\n",
    "sequence = str(Seq(sequence).translate(stop_symbol=\"\")) # translate to protein sequence\n",
    "\n",
    "embedding = np.array(seq_dict[\"NM_000517.6\"][\"alphafold\"])\n",
    "\n",
    "print(len(sequence))\n",
    "print(embedding.shape)"
   ]
  }
 ],
 "metadata": {
  "kernelspec": {
   "display_name": "bioemb0",
   "language": "python",
   "name": "python3"
  },
  "language_info": {
   "codemirror_mode": {
    "name": "ipython",
    "version": 3
   },
   "file_extension": ".py",
   "mimetype": "text/x-python",
   "name": "python",
   "nbconvert_exporter": "python",
   "pygments_lexer": "ipython3",
   "version": "3.11.0"
  },
  "orig_nbformat": 4,
  "vscode": {
   "interpreter": {
    "hash": "43217881773be2015cae185f7709f03d7e2efad80ec878843ed55ee237d2deb9"
   }
  }
 },
 "nbformat": 4,
 "nbformat_minor": 2
}
