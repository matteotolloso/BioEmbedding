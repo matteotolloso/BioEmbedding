{
 "cells": [
  {
   "cell_type": "code",
   "execution_count": 1,
   "metadata": {},
   "outputs": [],
   "source": [
    "from main_et import main_et\n",
    "\n",
    "EMBEDDINGS_PATH = \"./dataset/NEIS2157/NEIS2157.json\"\n",
    "GROUND_TRUE_PATH = \"./dataset/NEIS2157/NEIS2157.dnd\"\n",
    "\n",
    "et = main_et(EMBEDDINGS_PATH, GROUND_TRUE_PATH)\n",
    "\n",
    "et.compute()\n",
    "r = et.get_results()\n",
    "\n",
    "r.sort(key=lambda x : x[0][\"mean_adjusted_rand_score\"], reverse=True)\n",
    "\n",
    "\n",
    "# save the list to a file\n",
    "with open('results.txt', 'w') as f:\n",
    "    for result, pipeline in r:\n",
    "        f.write(f\"Score: {result['mean_adjusted_rand_score']}\\n\")\n",
    "        for stage in pipeline:\n",
    "            f.write(f\"{stage}\\n\")\n",
    "        f.write(\"\\n\")\n",
    "\n"
   ]
  }
 ],
 "metadata": {
  "kernelspec": {
   "display_name": "bioemb0",
   "language": "python",
   "name": "python3"
  },
  "language_info": {
   "codemirror_mode": {
    "name": "ipython",
    "version": 3
   },
   "file_extension": ".py",
   "mimetype": "text/x-python",
   "name": "python",
   "nbconvert_exporter": "python",
   "pygments_lexer": "ipython3",
   "version": "3.11.0"
  },
  "orig_nbformat": 4
 },
 "nbformat": 4,
 "nbformat_minor": 2
}
