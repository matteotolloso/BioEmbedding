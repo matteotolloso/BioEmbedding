{
 "cells": [
  {
   "cell_type": "code",
   "execution_count": 2,
   "metadata": {},
   "outputs": [
    {
     "data": {
      "text/plain": [
       "[({'mean_adjusted_rand_score': 0.6350288995372835},\n",
       "  [\"pipeline_build_embeddings_matrix {'embedder': 'rep', 'combiner_method': 'none'}\",\n",
       "   \"pipeline_pca {'n_components': 6}\",\n",
       "   \"pipeline_build_linkage_matrix {'metric': 'euclidean', 'method': 'average'}\",\n",
       "   \"pipeline_mean_adjusted_rand_score {'cluster_range': (2, 5), 'ground_true_path': './dataset/NEIS2157/NEIS2157.dnd'}\"]),\n",
       " ({'mean_adjusted_rand_score': 0.3726098930578019},\n",
       "  [\"pipeline_build_embeddings_matrix {'embedder': 'dnabert', 'combiner_method': 'average'}\",\n",
       "   \"pipeline_pca {'n_components': 6}\",\n",
       "   \"pipeline_build_linkage_matrix {'metric': 'euclidean', 'method': 'average'}\",\n",
       "   \"pipeline_mean_adjusted_rand_score {'cluster_range': (2, 5), 'ground_true_path': './dataset/NEIS2157/NEIS2157.dnd'}\"]),\n",
       " ({'mean_adjusted_rand_score': 0.6350288995372835},\n",
       "  [\"pipeline_build_embeddings_matrix {'embedder': 'prose', 'combiner_method': 'sum'}\",\n",
       "   \"pipeline_pca {'n_components': 6}\",\n",
       "   \"pipeline_build_linkage_matrix {'metric': 'euclidean', 'method': 'average'}\",\n",
       "   \"pipeline_mean_adjusted_rand_score {'cluster_range': (2, 5), 'ground_true_path': './dataset/NEIS2157/NEIS2157.dnd'}\"])]"
      ]
     },
     "execution_count": 2,
     "metadata": {},
     "output_type": "execute_result"
    }
   ],
   "source": [
    "from main_et import main_et\n",
    "\n",
    "EMBEDDINGS_PATH = \"./dataset/NEIS2157/NEIS2157.json\"\n",
    "GROUND_TRUE_PATH = \"./dataset/NEIS2157/NEIS2157.dnd\"\n",
    "\n",
    "et = main_et(EMBEDDINGS_PATH, GROUND_TRUE_PATH)\n",
    "\n",
    "et.compute()\n",
    "et.get_results()"
   ]
  }
 ],
 "metadata": {
  "kernelspec": {
   "display_name": "bioemb0",
   "language": "python",
   "name": "python3"
  },
  "language_info": {
   "codemirror_mode": {
    "name": "ipython",
    "version": 3
   },
   "file_extension": ".py",
   "mimetype": "text/x-python",
   "name": "python",
   "nbconvert_exporter": "python",
   "pygments_lexer": "ipython3",
   "version": "3.11.0"
  },
  "orig_nbformat": 4
 },
 "nbformat": 4,
 "nbformat_minor": 2
}
