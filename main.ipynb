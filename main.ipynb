{
 "cells": [
  {
   "cell_type": "code",
   "execution_count": 1,
   "metadata": {},
   "outputs": [
    {
     "name": "stderr",
     "output_type": "stream",
     "text": [
      "c:\\Users\\matte\\anaconda3\\envs\\bioemb1\\lib\\site-packages\\gensim\\utils.py:855: UserWarning: detected Windows; aliasing chunkize to chunkize_serial\n",
      "  warnings.warn(\"detected Windows; aliasing chunkize to chunkize_serial\")\n"
     ]
    }
   ],
   "source": [
    "from embeddings_reproduction import embedding_tools\n",
    "\n",
    "seqs = [\"ABCD\"]\n",
    "\n",
    "embeds = embedding_tools.get_embeddings_new('.\\models\\original_5_7.pkl', seqs, k=5, overlap=False)"
   ]
  },
  {
   "cell_type": "code",
   "execution_count": 2,
   "metadata": {},
   "outputs": [
    {
     "data": {
      "text/plain": [
       "array([[ 0.02192286,  0.0966447 ,  0.04615254,  0.0201577 , -0.03428775,\n",
       "         0.06552318, -0.0280305 ,  0.17595101,  0.20823775, -0.05234812,\n",
       "         0.13101799,  0.01297713,  0.03055981,  0.19114168, -0.19265399,\n",
       "        -0.18542629, -0.21547695,  0.14938445,  0.12492428,  0.16617787,\n",
       "         0.21495452,  0.1343565 , -0.01730018,  0.12598976, -0.17143855,\n",
       "         0.06284058, -0.16017527,  0.19970733,  0.0098124 , -0.03832658,\n",
       "        -0.10574152,  0.12316237, -0.01969353,  0.03073469, -0.21611856,\n",
       "         0.05283183,  0.05034383,  0.05251677,  0.19929377,  0.08165816,\n",
       "        -0.06309706, -0.02827987,  0.08875907, -0.1975092 ,  0.07489738,\n",
       "         0.07663597, -0.13007144, -0.16665464, -0.08289384, -0.06120949,\n",
       "         0.0315264 , -0.02757496,  0.21933585, -0.17872751, -0.13074772,\n",
       "        -0.15211086,  0.0687632 , -0.11080036, -0.01513033, -0.11478221,\n",
       "        -0.15316176, -0.17498624,  0.07020991, -0.16249735]])"
      ]
     },
     "execution_count": 2,
     "metadata": {},
     "output_type": "execute_result"
    }
   ],
   "source": [
    "embeds"
   ]
  }
 ],
 "metadata": {
  "kernelspec": {
   "display_name": "bioemb1",
   "language": "python",
   "name": "python3"
  },
  "language_info": {
   "codemirror_mode": {
    "name": "ipython",
    "version": 3
   },
   "file_extension": ".py",
   "mimetype": "text/x-python",
   "name": "python",
   "nbconvert_exporter": "python",
   "pygments_lexer": "ipython3",
   "version": "3.5.6"
  },
  "orig_nbformat": 4,
  "vscode": {
   "interpreter": {
    "hash": "e3dc9bd93f3ea01d9b26c5d1c430fd430ea51a58d99bf7b86615fde6ff75e872"
   }
  }
 },
 "nbformat": 4,
 "nbformat_minor": 2
}
