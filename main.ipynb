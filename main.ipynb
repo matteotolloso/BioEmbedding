{
 "cells": [
  {
   "cell_type": "code",
   "execution_count": 1,
   "metadata": {},
   "outputs": [],
   "source": [
    "from Bio import SeqIO\n",
    "import utils\n",
    "import json"
   ]
  },
  {
   "attachments": {},
   "cell_type": "markdown",
   "metadata": {},
   "source": [
    "Create the json file"
   ]
  },
  {
   "cell_type": "code",
   "execution_count": 3,
   "metadata": {},
   "outputs": [],
   "source": [
    "utils.fasta_to_json(fasta_file_path = \"dataset/NEIS2157.fasta\", json_file_path = \"dataset/NEIS2157.json\" )"
   ]
  },
  {
   "attachments": {},
   "cell_type": "markdown",
   "metadata": {},
   "source": [
    "Annotate the json file with the embeddings we want (the scrips in folders 1, 2, 3)\n",
    "...\n",
    "..."
   ]
  },
  {
   "cell_type": "code",
   "execution_count": 5,
   "metadata": {},
   "outputs": [],
   "source": [
    "seq_dict = {}\n",
    "with open(\"dataset/test.json\") as file:\n",
    "    seq_dict = json.load(file)"
   ]
  },
  {
   "cell_type": "code",
   "execution_count": 9,
   "metadata": {},
   "outputs": [],
   "source": [
    "ids = list(seq_dict.keys())"
   ]
  },
  {
   "cell_type": "code",
   "execution_count": 12,
   "metadata": {},
   "outputs": [
    {
     "name": "stdout",
     "output_type": "stream",
     "text": [
      "1119\n",
      "1119\n",
      "1119\n",
      "1119\n",
      "1119\n",
      "1119\n",
      "1119\n",
      "1119\n",
      "1119\n",
      "1119\n",
      "1119\n",
      "1119\n",
      "1119\n",
      "1119\n",
      "1134\n",
      "1134\n",
      "1122\n",
      "1119\n",
      "1119\n",
      "1119\n",
      "1119\n",
      "1119\n",
      "1119\n",
      "1119\n",
      "1119\n",
      "1119\n",
      "1119\n"
     ]
    }
   ],
   "source": [
    "for id in ids:\n",
    "    print(len(seq_dict[id][\"sequence\"]))"
   ]
  }
 ],
 "metadata": {
  "kernelspec": {
   "display_name": "bioemb0",
   "language": "python",
   "name": "python3"
  },
  "language_info": {
   "codemirror_mode": {
    "name": "ipython",
    "version": 3
   },
   "file_extension": ".py",
   "mimetype": "text/x-python",
   "name": "python",
   "nbconvert_exporter": "python",
   "pygments_lexer": "ipython3",
   "version": "3.11.0"
  },
  "orig_nbformat": 4,
  "vscode": {
   "interpreter": {
    "hash": "43217881773be2015cae185f7709f03d7e2efad80ec878843ed55ee237d2deb9"
   }
  }
 },
 "nbformat": 4,
 "nbformat_minor": 2
}
