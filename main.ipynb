{
 "cells": [
  {
   "cell_type": "code",
   "execution_count": null,
   "metadata": {},
   "outputs": [
    {
     "ename": "",
     "evalue": "",
     "output_type": "error",
     "traceback": [
      "\u001b[1;31mFailed to start the Kernel. \n",
      "\u001b[1;31mThe Jupyter notebook server failed to launch in time. \n",
      "\u001b[1;31mView Jupyter <a href='command:jupyter.viewOutput'>log</a> for further details."
     ]
    }
   ],
   "source": [
    "from embeddings_reproduction import embedding_tools\n",
    "\n",
    "seqs = [\"ABCD\"]\n",
    "\n",
    "embeds = embedding_tools.get_embeddings_new('.\\models\\original_5_7.pkl', seqs, k=5, overlap=False)"
   ]
  }
 ],
 "metadata": {
  "kernelspec": {
   "display_name": "bioemb1",
   "language": "python",
   "name": "python3"
  },
  "language_info": {
   "codemirror_mode": {
    "name": "ipython",
    "version": 3
   },
   "file_extension": ".py",
   "mimetype": "text/x-python",
   "name": "python",
   "nbconvert_exporter": "python",
   "pygments_lexer": "ipython3",
   "version": "3.5.6 |Anaconda, Inc.| (default, Aug 26 2018, 16:05:27) [MSC v.1900 64 bit (AMD64)]"
  },
  "orig_nbformat": 4,
  "vscode": {
   "interpreter": {
    "hash": "e3dc9bd93f3ea01d9b26c5d1c430fd430ea51a58d99bf7b86615fde6ff75e872"
   }
  }
 },
 "nbformat": 4,
 "nbformat_minor": 2
}
