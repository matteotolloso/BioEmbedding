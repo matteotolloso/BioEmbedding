{
 "cells": [
  {
   "cell_type": "code",
   "execution_count": 5,
   "metadata": {},
   "outputs": [],
   "source": [
    "import numpy as np\n",
    "from os import listdir\n",
    "import os\n",
    "from os.path import isfile, join\n",
    "from pathlib import Path\n",
    "\n",
    "\n",
    "folder_path = \"dataset/topo/embeddings/dnabert\"\n",
    "\n",
    "\n",
    "# list of files in the folder without the extension\n",
    "IDs = [Path(f).stem for f in listdir(folder_path) if isfile(join(folder_path, f))]\n",
    "\n",
    "\n",
    "embeddings_matrix = []\n",
    "\n",
    "\n",
    "for id in IDs:\n",
    "\n",
    "    # load the file as a numpy array\n",
    "    raw_embedding = None\n",
    "    try:\n",
    "        raw_embedding = np.load(folder_path + \"/\" + id + \".npy\")\n",
    "        # print(raw_embedding.shape)\n",
    "    except:\n",
    "        raw_embedding = np.load(folder_path + \"/\" + id + \".npy\", allow_pickle=True)\n",
    "        print(f\"Error while loading the embedding of sequence {id}\")\n",
    "        # os.remove(folder_path + \"/\" + id + \".npy\")\n",
    "        print(raw_embedding.shape)\n",
    "        "
   ]
  },
  {
   "cell_type": "code",
   "execution_count": 6,
   "metadata": {},
   "outputs": [
    {
     "name": "stdout",
     "output_type": "stream",
     "text": [
      "2240049.3970588236\n"
     ]
    }
   ],
   "source": [
    "import numpy as np\n",
    "from os import listdir\n",
    "from os.path import isfile, join\n",
    "from pathlib import Path\n",
    "from Bio import SeqIO\n",
    "\n",
    "\n",
    "FASTA_FILE_PATH = \"dataset/meningite/meningite.fasta\"\n",
    "lens = []\n",
    "\n",
    "for count, seqrecord in enumerate(SeqIO.parse(FASTA_FILE_PATH, \"fasta\")):\n",
    "\n",
    "    lens.append(len(str(seqrecord.seq)))\n",
    "\n",
    "print(np.mean(lens))\n",
    "\n"
   ]
  },
  {
   "cell_type": "code",
   "execution_count": 14,
   "metadata": {},
   "outputs": [
    {
     "name": "stdout",
     "output_type": "stream",
     "text": [
      "Q569L8 CENPJ_MOUSE\n",
      "The two lists are equal\n"
     ]
    }
   ],
   "source": [
    "\n",
    "from Bio import SeqIO   \n",
    "from os import listdir\n",
    "from os.path import isfile, join\n",
    "from pathlib import Path\n",
    "\n",
    "\n",
    "\n",
    "records = list(SeqIO.parse(\"dataset/topo/topo.xml\", \"uniprot-xml\"))\n",
    "\n",
    "xml_names = []\n",
    "for record in records:\n",
    "    if 'CENPJ_MOUSE' in record.id or 'CENPJ_MOUSE' in record.name:\n",
    "        print(record.id, record.name)\n",
    "        \n",
    "\n",
    "    name = f'{record.id}|{record.name}'  \n",
    "    xml_names.append(name)\n",
    "\n",
    "folder_path = 'dataset/topo/embeddings' + \"/\" + 'prose'\n",
    "\n",
    "# list of files in the folder without the extension\n",
    "IDs = [Path(f).stem for f in listdir(folder_path) if isfile(join(folder_path, f))]\n",
    "IDs = [i[i.find(\"|\")+1:] for i in IDs]\n",
    "\n",
    "# check if the two lists are equals \n",
    "if set(IDs) == set(xml_names):\n",
    "    print(\"The two lists are equal\")\n",
    "\n",
    "\n"
   ]
  },
  {
   "cell_type": "code",
   "execution_count": 10,
   "metadata": {},
   "outputs": [
    {
     "name": "stdout",
     "output_type": "stream",
     "text": [
      "[[0.38 0.09 -1.08 1.24 -1.12 -0.08 0.40 0.57 0.32 -0.06]\n",
      " [1.17 -1.02 0.69 0.53 1.45 -0.35 -0.62 -1.01 -0.02 -0.65]\n",
      " [0.95 -0.59 0.26 -1.37 -1.14 -1.38 0.74 1.45 0.55 -1.43]\n",
      " [-1.43 0.18 1.03 1.47 0.65 0.14 -0.97 0.01 0.33 -0.71]\n",
      " [0.03 -0.39 -0.88 0.65 0.56 1.23 -0.28 -1.42 -1.34 1.49]\n",
      " [-0.04 -1.44 -0.26 0.61 -1.09 1.47 -0.81 -1.27 0.92 -0.82]\n",
      " [-0.74 -0.10 -0.06 0.26 -0.72 -0.36 -0.13 -0.37 0.34 0.48]\n",
      " [1.10 0.54 1.41 0.69 -1.15 0.92 0.29 -0.97 0.48 0.89]]\n"
     ]
    }
   ],
   "source": [
    "# generate a 8*10 random matrix\n",
    "\n",
    "import numpy as np\n",
    "import matplotlib.pyplot as plt\n",
    "\n",
    "\n",
    "np.set_printoptions(formatter={'float': lambda x: \"{0:0.2f}\".format(x)})\n",
    "print((np.random.rand(8, 10) - 0.5) * 3)\n",
    "\n",
    "# print with only two decimal digits\n",
    "\n",
    " \n"
   ]
  }
 ],
 "metadata": {
  "kernelspec": {
   "display_name": "bioemb",
   "language": "python",
   "name": "python3"
  },
  "language_info": {
   "codemirror_mode": {
    "name": "ipython",
    "version": 3
   },
   "file_extension": ".py",
   "mimetype": "text/x-python",
   "name": "python",
   "nbconvert_exporter": "python",
   "pygments_lexer": "ipython3",
   "version": "3.11.3"
  },
  "orig_nbformat": 4
 },
 "nbformat": 4,
 "nbformat_minor": 2
}
