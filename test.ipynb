{
 "cells": [
  {
   "cell_type": "code",
   "execution_count": 5,
   "metadata": {},
   "outputs": [],
   "source": [
    "import numpy as np\n",
    "from os import listdir\n",
    "import os\n",
    "from os.path import isfile, join\n",
    "from pathlib import Path\n",
    "\n",
    "\n",
    "folder_path = \"dataset/topo/embeddings/dnabert\"\n",
    "\n",
    "\n",
    "# list of files in the folder without the extension\n",
    "IDs = [Path(f).stem for f in listdir(folder_path) if isfile(join(folder_path, f))]\n",
    "\n",
    "\n",
    "embeddings_matrix = []\n",
    "\n",
    "\n",
    "for id in IDs:\n",
    "\n",
    "    # load the file as a numpy array\n",
    "    raw_embedding = None\n",
    "    try:\n",
    "        raw_embedding = np.load(folder_path + \"/\" + id + \".npy\")\n",
    "        # print(raw_embedding.shape)\n",
    "    except:\n",
    "        raw_embedding = np.load(folder_path + \"/\" + id + \".npy\", allow_pickle=True)\n",
    "        print(f\"Error while loading the embedding of sequence {id}\")\n",
    "        # os.remove(folder_path + \"/\" + id + \".npy\")\n",
    "        print(raw_embedding.shape)\n",
    "        "
   ]
  },
  {
   "cell_type": "code",
   "execution_count": 6,
   "metadata": {},
   "outputs": [
    {
     "name": "stdout",
     "output_type": "stream",
     "text": [
      "2240049.3970588236\n"
     ]
    }
   ],
   "source": [
    "import numpy as np\n",
    "from os import listdir\n",
    "from os.path import isfile, join\n",
    "from pathlib import Path\n",
    "from Bio import SeqIO\n",
    "\n",
    "\n",
    "FASTA_FILE_PATH = \"dataset/meningite/meningite.fasta\"\n",
    "lens = []\n",
    "\n",
    "for count, seqrecord in enumerate(SeqIO.parse(FASTA_FILE_PATH, \"fasta\")):\n",
    "\n",
    "    lens.append(len(str(seqrecord.seq)))\n",
    "\n",
    "print(np.mean(lens))\n",
    "\n"
   ]
  },
  {
   "cell_type": "code",
   "execution_count": 14,
   "metadata": {},
   "outputs": [
    {
     "name": "stdout",
     "output_type": "stream",
     "text": [
      "Q569L8 CENPJ_MOUSE\n",
      "The two lists are equal\n"
     ]
    }
   ],
   "source": [
    "\n",
    "from Bio import SeqIO   \n",
    "from os import listdir\n",
    "from os.path import isfile, join\n",
    "from pathlib import Path\n",
    "\n",
    "\n",
    "\n",
    "records = list(SeqIO.parse(\"dataset/topo/topo.xml\", \"uniprot-xml\"))\n",
    "\n",
    "xml_names = []\n",
    "for record in records:\n",
    "    if 'CENPJ_MOUSE' in record.id or 'CENPJ_MOUSE' in record.name:\n",
    "        print(record.id, record.name)\n",
    "        \n",
    "\n",
    "    name = f'{record.id}|{record.name}'  \n",
    "    xml_names.append(name)\n",
    "\n",
    "folder_path = 'dataset/topo/embeddings' + \"/\" + 'prose'\n",
    "\n",
    "# list of files in the folder without the extension\n",
    "IDs = [Path(f).stem for f in listdir(folder_path) if isfile(join(folder_path, f))]\n",
    "IDs = [i[i.find(\"|\")+1:] for i in IDs]\n",
    "\n",
    "# check if the two lists are equals \n",
    "if set(IDs) == set(xml_names):\n",
    "    print(\"The two lists are equal\")\n",
    "\n",
    "\n"
   ]
  }
 ],
 "metadata": {
  "kernelspec": {
   "display_name": "bioemb",
   "language": "python",
   "name": "python3"
  },
  "language_info": {
   "codemirror_mode": {
    "name": "ipython",
    "version": 3
   },
   "file_extension": ".py",
   "mimetype": "text/x-python",
   "name": "python",
   "nbconvert_exporter": "python",
   "pygments_lexer": "ipython3",
   "version": "3.11.3"
  },
  "orig_nbformat": 4
 },
 "nbformat": 4,
 "nbformat_minor": 2
}
