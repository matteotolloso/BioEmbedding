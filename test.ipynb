{
 "cells": [
  {
   "cell_type": "code",
   "execution_count": 3,
   "metadata": {},
   "outputs": [
    {
     "name": "stdout",
     "output_type": "stream",
     "text": [
      "Error while loading the embedding of sequence sp|P02129|HBB_CRONI from embedder alphafold\n"
     ]
    }
   ],
   "source": [
    "import numpy as np\n",
    "from os import listdir\n",
    "from os.path import isfile, join\n",
    "from pathlib import Path\n",
    "\n",
    "\n",
    "folder_path = \"dataset/emoglobina/embeddings/alphafold\"\n",
    "embedder = \"alphafold\"\n",
    "\n",
    "# list of files in the folder without the extension\n",
    "IDs = [Path(f).stem for f in listdir(folder_path) if isfile(join(folder_path, f))]\n",
    "\n",
    "embeddings_matrix = []\n",
    "\n",
    "for id in IDs:\n",
    "\n",
    "    # load the file as a numpy array\n",
    "    raw_embedding = None\n",
    "    try:\n",
    "        raw_embedding = np.load(folder_path + \"/\" + id + \".npy\") \n",
    "    except:\n",
    "        print(f\"Error while loading the embedding of sequence {id} from embedder {embedder}\")\n",
    "        "
   ]
  }
 ],
 "metadata": {
  "kernelspec": {
   "display_name": "bioemb",
   "language": "python",
   "name": "python3"
  },
  "language_info": {
   "codemirror_mode": {
    "name": "ipython",
    "version": 3
   },
   "file_extension": ".py",
   "mimetype": "text/x-python",
   "name": "python",
   "nbconvert_exporter": "python",
   "pygments_lexer": "ipython3",
   "version": "3.11.3"
  },
  "orig_nbformat": 4
 },
 "nbformat": 4,
 "nbformat_minor": 2
}
