{
 "cells": [
  {
   "attachments": {},
   "cell_type": "markdown",
   "metadata": {},
   "source": [
    "# Results of the pipeline"
   ]
  },
  {
   "cell_type": "code",
   "execution_count": 79,
   "metadata": {},
   "outputs": [
    {
     "data": {
      "text/html": [
       "<div>\n",
       "<style scoped>\n",
       "    .dataframe tbody tr th:only-of-type {\n",
       "        vertical-align: middle;\n",
       "    }\n",
       "\n",
       "    .dataframe tbody tr th {\n",
       "        vertical-align: top;\n",
       "    }\n",
       "\n",
       "    .dataframe thead th {\n",
       "        text-align: right;\n",
       "    }\n",
       "</style>\n",
       "<table border=\"1\" class=\"dataframe\">\n",
       "  <thead>\n",
       "    <tr style=\"text-align: right;\">\n",
       "      <th></th>\n",
       "      <th></th>\n",
       "      <th>seqvec</th>\n",
       "      <th>prose</th>\n",
       "      <th>alphafold</th>\n",
       "      <th>esm</th>\n",
       "    </tr>\n",
       "    <tr>\n",
       "      <th>combiner</th>\n",
       "      <th>dimensional PCA</th>\n",
       "      <th></th>\n",
       "      <th></th>\n",
       "      <th></th>\n",
       "      <th></th>\n",
       "    </tr>\n",
       "  </thead>\n",
       "  <tbody>\n",
       "    <tr>\n",
       "      <th rowspan=\"3\" valign=\"top\">pca</th>\n",
       "      <th>10</th>\n",
       "      <td>0.214205</td>\n",
       "      <td>0.329444</td>\n",
       "      <td>0.105390</td>\n",
       "      <td>0.116791</td>\n",
       "    </tr>\n",
       "    <tr>\n",
       "      <th>50</th>\n",
       "      <td>0.284878</td>\n",
       "      <td>0.331405</td>\n",
       "      <td>0.106039</td>\n",
       "      <td>0.144322</td>\n",
       "    </tr>\n",
       "    <tr>\n",
       "      <th>all</th>\n",
       "      <td>0.302417</td>\n",
       "      <td>0.331388</td>\n",
       "      <td>0.107567</td>\n",
       "      <td>0.149714</td>\n",
       "    </tr>\n",
       "    <tr>\n",
       "      <th rowspan=\"3\" valign=\"top\">average</th>\n",
       "      <th>10</th>\n",
       "      <td>0.166008</td>\n",
       "      <td>0.339450</td>\n",
       "      <td>0.085529</td>\n",
       "      <td>0.112586</td>\n",
       "    </tr>\n",
       "    <tr>\n",
       "      <th>50</th>\n",
       "      <td>0.234696</td>\n",
       "      <td>0.347188</td>\n",
       "      <td>0.096526</td>\n",
       "      <td>0.156516</td>\n",
       "    </tr>\n",
       "    <tr>\n",
       "      <th>all</th>\n",
       "      <td>0.251249</td>\n",
       "      <td>0.347197</td>\n",
       "      <td>0.092045</td>\n",
       "      <td>0.179916</td>\n",
       "    </tr>\n",
       "    <tr>\n",
       "      <th rowspan=\"3\" valign=\"top\">sum</th>\n",
       "      <th>10</th>\n",
       "      <td>0.088457</td>\n",
       "      <td>0.280972</td>\n",
       "      <td>0.111430</td>\n",
       "      <td>0.073663</td>\n",
       "    </tr>\n",
       "    <tr>\n",
       "      <th>50</th>\n",
       "      <td>0.077054</td>\n",
       "      <td>0.279975</td>\n",
       "      <td>0.097347</td>\n",
       "      <td>0.058070</td>\n",
       "    </tr>\n",
       "    <tr>\n",
       "      <th>all</th>\n",
       "      <td>0.065388</td>\n",
       "      <td>0.281246</td>\n",
       "      <td>0.096437</td>\n",
       "      <td>0.051975</td>\n",
       "    </tr>\n",
       "    <tr>\n",
       "      <th rowspan=\"3\" valign=\"top\">max</th>\n",
       "      <th>10</th>\n",
       "      <td>0.093573</td>\n",
       "      <td>0.361552</td>\n",
       "      <td>0.091071</td>\n",
       "      <td>0.155790</td>\n",
       "    </tr>\n",
       "    <tr>\n",
       "      <th>50</th>\n",
       "      <td>0.106563</td>\n",
       "      <td>0.370374</td>\n",
       "      <td>0.097701</td>\n",
       "      <td>0.169250</td>\n",
       "    </tr>\n",
       "    <tr>\n",
       "      <th>all</th>\n",
       "      <td>0.062878</td>\n",
       "      <td>0.366821</td>\n",
       "      <td>0.069685</td>\n",
       "      <td>0.228986</td>\n",
       "    </tr>\n",
       "  </tbody>\n",
       "</table>\n",
       "</div>"
      ],
      "text/plain": [
       "                            seqvec     prose  alphafold       esm\n",
       "combiner dimensional PCA                                         \n",
       "pca      10               0.214205  0.329444   0.105390  0.116791\n",
       "         50               0.284878  0.331405   0.106039  0.144322\n",
       "         all              0.302417  0.331388   0.107567  0.149714\n",
       "average  10               0.166008  0.339450   0.085529  0.112586\n",
       "         50               0.234696  0.347188   0.096526  0.156516\n",
       "         all              0.251249  0.347197   0.092045  0.179916\n",
       "sum      10               0.088457  0.280972   0.111430  0.073663\n",
       "         50               0.077054  0.279975   0.097347  0.058070\n",
       "         all              0.065388  0.281246   0.096437  0.051975\n",
       "max      10               0.093573  0.361552   0.091071  0.155790\n",
       "         50               0.106563  0.370374   0.097701  0.169250\n",
       "         all              0.062878  0.366821   0.069685  0.228986"
      ]
     },
     "execution_count": 79,
     "metadata": {},
     "output_type": "execute_result"
    }
   ],
   "source": [
    "import pickle\n",
    "from autoembedding.results_manager import results2table\n",
    "from pathlib import Path\n",
    "\n",
    "# PATH = \"./results/phylogenetic_results_emoglobina.pkl\"\n",
    "# PATH = \"./results/enrichment_results_emoglobina.pkl\"\n",
    "\n",
    "# PATH = \"./results/phylogenetic_results_topo.pkl\"\n",
    "PATH = \"./results/enrichment_results_topo.pkl\"\n",
    "\n",
    "# PATH = \"./results/phylogenetic_results_batterio.pkl\"\n",
    "# PATH = \"./results/enrichment_results_batterio.pkl\"\n",
    "\n",
    "\n",
    "results = pickle.load(open(PATH, \"rb\"))\n",
    "r, best_lst = results2table(\n",
    "    results, \n",
    "    embedders= [\n",
    "        # \"dnabert\", \n",
    "        \"seqvec\", \n",
    "        \"prose\", \n",
    "        \"alphafold\", \n",
    "        \"esm\"\n",
    "        ],\n",
    "    combiners = [\"pca\", \"average\", \"sum\", \"max\"],\n",
    "    pcas = [ '10', '50', 'all'],\n",
    "    metric=\"mean_adjusted_rand_score\", \n",
    "    \n",
    "    preferred_metric_embedding=\"euclidean\", \n",
    "    preferred_method_embedding=\"average\", \n",
    "    \n",
    "    preferred_metric_gt=\"euclidean\", # euclidean, average: equivalent to UPGMA when the gt is the distance matrix\n",
    "    preferred_method_gt=\"average\",\n",
    "    \n",
    "    preferred_edge_weight=\"jaccard\",\n",
    "    preferred_annotation=\"keywords\"\n",
    ")\n",
    "r.to_latex(\"./latex_output.tex\")\n",
    "r"
   ]
  },
  {
   "attachments": {},
   "cell_type": "markdown",
   "metadata": {},
   "source": [
    "# Scores"
   ]
  },
  {
   "cell_type": "code",
   "execution_count": 80,
   "metadata": {},
   "outputs": [],
   "source": [
    "# reverse the list, since the first element represent each point in its own cluster\n",
    "best_lst = best_lst[::-1]"
   ]
  },
  {
   "cell_type": "code",
   "execution_count": 81,
   "metadata": {},
   "outputs": [
    {
     "name": "stdout",
     "output_type": "stream",
     "text": [
      "974\n"
     ]
    },
    {
     "data": {
      "image/png": "[encoded data removed]",
      "text/plain": [
       "<Figure size 640x480 with 1 Axes>"
      ]
     },
     "metadata": {},
     "output_type": "display_data"
    }
   ],
   "source": [
    "# do not plot the first and last CUT elements\n",
    "\n",
    "import matplotlib.pyplot as plt\n",
    "import numpy as np\n",
    "\n",
    "# add 1 to to the beginning and the end of the best_list\n",
    "best_lst.insert(0, 1)\n",
    "best_lst.append(1)\n",
    "\n",
    "\n",
    "plt.xlabel(\"Number of clusters\")\n",
    "plt.ylabel(\"Adjusted Rand Score\")\n",
    "plt.title(\"Adjusted Rand Score for different number of clusters\")\n",
    "\n",
    "plt.ylim(-0.1, 1.05)\n",
    "\n",
    "X = [i for i in range(1, len(best_lst) + 1)]\n",
    "print(len(best_lst))\n",
    "\n",
    "plt.xticks([i for i in range(0, len(best_lst)+1, 100)][1:] + [1] + [len(best_lst)])\n",
    "\n",
    "\n",
    "plt.plot(X, best_lst)\n",
    "plt.savefig(Path(PATH).stem + '.eps')\n"
   ]
  },
  {
   "cell_type": "code",
   "execution_count": 22,
   "metadata": {},
   "outputs": [
    {
     "name": "stdout",
     "output_type": "stream",
     "text": [
      "0.1379519479372266\n",
      "0.19260589130751563\n"
     ]
    }
   ],
   "source": [
    "print(np.median(best_lst))\n",
    "print(np.mean(best_lst))"
   ]
  }
 ],
 "metadata": {
  "kernelspec": {
   "display_name": "bioemb0",
   "language": "python",
   "name": "python3"
  },
  "language_info": {
   "codemirror_mode": {
    "name": "ipython",
    "version": 3
   },
   "file_extension": ".py",
   "mimetype": "text/x-python",
   "name": "python",
   "nbconvert_exporter": "python",
   "pygments_lexer": "ipython3",
   "version": "3.11.5"
  },
  "orig_nbformat": 4
 },
 "nbformat": 4,
 "nbformat_minor": 2
}
