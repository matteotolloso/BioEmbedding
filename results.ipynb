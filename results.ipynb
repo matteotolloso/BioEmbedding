{
 "cells": [
  {
   "attachments": {},
   "cell_type": "markdown",
   "metadata": {},
   "source": [
    "# "
   ]
  },
  {
   "attachments": {},
   "cell_type": "markdown",
   "metadata": {},
   "source": [
    "# Results of the pipeline"
   ]
  },
  {
   "cell_type": "code",
   "execution_count": 1,
   "metadata": {},
   "outputs": [
    {
     "data": {
      "text/html": [
       "<div>\n",
       "<style scoped>\n",
       "    .dataframe tbody tr th:only-of-type {\n",
       "        vertical-align: middle;\n",
       "    }\n",
       "\n",
       "    .dataframe tbody tr th {\n",
       "        vertical-align: top;\n",
       "    }\n",
       "\n",
       "    .dataframe thead th {\n",
       "        text-align: right;\n",
       "    }\n",
       "</style>\n",
       "<table border=\"1\" class=\"dataframe\">\n",
       "  <thead>\n",
       "    <tr style=\"text-align: right;\">\n",
       "      <th></th>\n",
       "      <th></th>\n",
       "      <th>seqvec</th>\n",
       "      <th>prose</th>\n",
       "      <th>alphafold</th>\n",
       "      <th>esm</th>\n",
       "    </tr>\n",
       "    <tr>\n",
       "      <th>combiner</th>\n",
       "      <th>dimensional PCA</th>\n",
       "      <th></th>\n",
       "      <th></th>\n",
       "      <th></th>\n",
       "      <th></th>\n",
       "    </tr>\n",
       "  </thead>\n",
       "  <tbody>\n",
       "    <tr>\n",
       "      <th rowspan=\"3\" valign=\"top\">pca</th>\n",
       "      <th>10</th>\n",
       "      <td>0.229532</td>\n",
       "      <td>0.252664</td>\n",
       "      <td>0.126053</td>\n",
       "      <td>0.177885</td>\n",
       "    </tr>\n",
       "    <tr>\n",
       "      <th>50</th>\n",
       "      <td>0.276391</td>\n",
       "      <td>0.255782</td>\n",
       "      <td>0.138783</td>\n",
       "      <td>0.273662</td>\n",
       "    </tr>\n",
       "    <tr>\n",
       "      <th>all</th>\n",
       "      <td>0.296438</td>\n",
       "      <td>0.255735</td>\n",
       "      <td>0.139059</td>\n",
       "      <td>0.273793</td>\n",
       "    </tr>\n",
       "    <tr>\n",
       "      <th rowspan=\"3\" valign=\"top\">average</th>\n",
       "      <th>10</th>\n",
       "      <td>0.224520</td>\n",
       "      <td>0.325737</td>\n",
       "      <td>0.127148</td>\n",
       "      <td>0.212842</td>\n",
       "    </tr>\n",
       "    <tr>\n",
       "      <th>50</th>\n",
       "      <td>0.316378</td>\n",
       "      <td>0.329970</td>\n",
       "      <td>0.137755</td>\n",
       "      <td>0.332728</td>\n",
       "    </tr>\n",
       "    <tr>\n",
       "      <th>all</th>\n",
       "      <td>0.339593</td>\n",
       "      <td>0.330083</td>\n",
       "      <td>0.134316</td>\n",
       "      <td>0.361265</td>\n",
       "    </tr>\n",
       "    <tr>\n",
       "      <th rowspan=\"3\" valign=\"top\">sum</th>\n",
       "      <th>10</th>\n",
       "      <td>0.123466</td>\n",
       "      <td>0.276827</td>\n",
       "      <td>0.164567</td>\n",
       "      <td>0.119100</td>\n",
       "    </tr>\n",
       "    <tr>\n",
       "      <th>50</th>\n",
       "      <td>0.102596</td>\n",
       "      <td>0.274174</td>\n",
       "      <td>0.133303</td>\n",
       "      <td>0.105187</td>\n",
       "    </tr>\n",
       "    <tr>\n",
       "      <th>all</th>\n",
       "      <td>0.086596</td>\n",
       "      <td>0.274727</td>\n",
       "      <td>0.132723</td>\n",
       "      <td>0.102661</td>\n",
       "    </tr>\n",
       "    <tr>\n",
       "      <th rowspan=\"3\" valign=\"top\">max</th>\n",
       "      <th>10</th>\n",
       "      <td>0.187658</td>\n",
       "      <td>0.352926</td>\n",
       "      <td>0.089598</td>\n",
       "      <td>0.325768</td>\n",
       "    </tr>\n",
       "    <tr>\n",
       "      <th>50</th>\n",
       "      <td>0.265340</td>\n",
       "      <td>0.384711</td>\n",
       "      <td>0.111782</td>\n",
       "      <td>0.413403</td>\n",
       "    </tr>\n",
       "    <tr>\n",
       "      <th>all</th>\n",
       "      <td>0.160652</td>\n",
       "      <td>0.391858</td>\n",
       "      <td>0.095958</td>\n",
       "      <td>0.439673</td>\n",
       "    </tr>\n",
       "  </tbody>\n",
       "</table>\n",
       "</div>"
      ],
      "text/plain": [
       "                            seqvec     prose  alphafold       esm\n",
       "combiner dimensional PCA                                         \n",
       "pca      10               0.229532  0.252664   0.126053  0.177885\n",
       "         50               0.276391  0.255782   0.138783  0.273662\n",
       "         all              0.296438  0.255735   0.139059  0.273793\n",
       "average  10               0.224520  0.325737   0.127148  0.212842\n",
       "         50               0.316378  0.329970   0.137755  0.332728\n",
       "         all              0.339593  0.330083   0.134316  0.361265\n",
       "sum      10               0.123466  0.276827   0.164567  0.119100\n",
       "         50               0.102596  0.274174   0.133303  0.105187\n",
       "         all              0.086596  0.274727   0.132723  0.102661\n",
       "max      10               0.187658  0.352926   0.089598  0.325768\n",
       "         50               0.265340  0.384711   0.111782  0.413403\n",
       "         all              0.160652  0.391858   0.095958  0.439673"
      ]
     },
     "execution_count": 1,
     "metadata": {},
     "output_type": "execute_result"
    }
   ],
   "source": [
    "import pickle\n",
    "from autoembedding.results_manager import results2table\n",
    "\n",
    "results = pickle.load(open(\"./results/phylogenetic_results_topo.pkl\", \"rb\"))\n",
    "r = results2table(\n",
    "    results, \n",
    "    embedders= [\n",
    "        # \"dnabert\", \n",
    "        \"seqvec\", \n",
    "        \"prose\", \n",
    "        \"alphafold\", \n",
    "        \"esm\"\n",
    "        ],\n",
    "    combiners = [\"pca\", \"average\", \"sum\", \"max\"],\n",
    "    pcas = [ '10', '50', 'all'],\n",
    "    metric=\"mean_adjusted_rand_score\", \n",
    "    preferred_metric_embedding=\"euclidean\", \n",
    "    preferred_method_embedding=\"average\", \n",
    "    preferred_metric_gt=\"euclidean\", \n",
    "    preferred_method_gt=\"average\",\n",
    "    preferred_edge_weight=\"method_1\",\n",
    "    preferred_annotation=\"taxonomy\"\n",
    ")\n",
    "# r.to_latex(\"./latex_output.tex\")\n",
    "r"
   ]
  },
  {
   "attachments": {},
   "cell_type": "markdown",
   "metadata": {},
   "source": [
    "## Scores"
   ]
  },
  {
   "cell_type": "code",
   "execution_count": 45,
   "metadata": {},
   "outputs": [
    {
     "name": "stdout",
     "output_type": "stream",
     "text": [
      "257\n"
     ]
    },
    {
     "data": {
      "text/plain": [
       "[<matplotlib.lines.Line2D at 0x7f224bcff890>]"
      ]
     },
     "execution_count": 45,
     "metadata": {},
     "output_type": "execute_result"
    },
    {
     "data": {
      "image/png": "[encoded data removed]",
      "text/plain": [
       "<Figure size 640x480 with 1 Axes>"
      ]
     },
     "metadata": {},
     "output_type": "display_data"
    }
   ],
   "source": [
    "import matplotlib.pyplot as plt\n",
    "import numpy as np\n",
    "\n",
    "results = pickle.load(open(\"./results/phylogenetic_results_batterio.pkl\", \"rb\"))\n",
    "scores = results[0][0]['adjusted_rand_scores']\n",
    "\n",
    "# reverse the list, since the first element represent each point in its own cluster\n",
    "scores = scores[::-1]\n",
    "\n",
    "\n",
    "plt.xlabel(\"Number of clusters\")\n",
    "plt.ylabel(\"Adjusted Rand Score\")\n",
    "plt.title(\"Adjusted Rand Score for different number of clusters\")\n",
    "plt.xticks(range(2, len(scores)+2, 50))\n",
    "\n",
    "print(len(scores))\n",
    "plt.plot(scores)\n"
   ]
  },
  {
   "cell_type": "code",
   "execution_count": 44,
   "metadata": {},
   "outputs": [
    {
     "name": "stdout",
     "output_type": "stream",
     "text": [
      "0.24102991225434311\n",
      "0.22953219562793706\n"
     ]
    }
   ],
   "source": [
    "print(np.median(scores))\n",
    "print(np.mean(scores))"
   ]
  }
 ],
 "metadata": {
  "kernelspec": {
   "display_name": "bioemb0",
   "language": "python",
   "name": "python3"
  },
  "language_info": {
   "codemirror_mode": {
    "name": "ipython",
    "version": 3
   },
   "file_extension": ".py",
   "mimetype": "text/x-python",
   "name": "python",
   "nbconvert_exporter": "python",
   "pygments_lexer": "ipython3",
   "version": "3.11.3"
  },
  "orig_nbformat": 4
 },
 "nbformat": 4,
 "nbformat_minor": 2
}
