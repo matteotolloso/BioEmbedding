{
 "cells": [
  {
   "attachments": {},
   "cell_type": "markdown",
   "metadata": {},
   "source": [
    "Command to run the model\n",
    "\n",
    "python embed_sequences.py --pool avg -o data/demo.h5 data/demo.fa"
   ]
  }
 ],
 "metadata": {
  "kernelspec": {
   "display_name": "bioemb3",
   "language": "python",
   "name": "python3"
  },
  "language_info": {
   "name": "python",
   "version": "3.9.16"
  },
  "orig_nbformat": 4,
  "vscode": {
   "interpreter": {
    "hash": "3ddecc9c241577cb893d8f673e126b3c66c05dfe4e8492faf199936c6fb7d505"
   }
  }
 },
 "nbformat": 4,
 "nbformat_minor": 2
}
