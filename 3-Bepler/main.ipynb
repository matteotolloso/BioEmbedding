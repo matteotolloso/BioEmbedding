{
 "cells": [
  {
   "attachments": {},
   "cell_type": "markdown",
   "metadata": {},
   "source": [
    "Command to run the model\n",
    "\n",
    "python embed_sequences.py --pool avg -o data/demo.h5 data/demo.fa"
   ]
  }
 ],
 "metadata": {
  "kernelspec": {
   "display_name": "bioemb2",
   "language": "python",
   "name": "python3"
  },
  "language_info": {
   "name": "python",
   "version": "3.6.13 |Anaconda, Inc.| (default, Mar 16 2021, 11:37:27) [MSC v.1916 64 bit (AMD64)]"
  },
  "orig_nbformat": 4,
  "vscode": {
   "interpreter": {
    "hash": "f687300ad211885da1886a00a1450a355359c0f69faf0f4da3ff288c4e2039b6"
   }
  }
 },
 "nbformat": 4,
 "nbformat_minor": 2
}
