{
 "cells": [
  {
   "attachments": {},
   "cell_type": "markdown",
   "metadata": {},
   "source": [
    "Command to run the model\n",
    "\n",
    "python embed_sequences.py --pool avg -o data/demo.h5 data/demo.fa"
   ]
  }
 ],
 "metadata": {
  "kernelspec": {
   "display_name": "bioemb3",
   "language": "python",
   "name": "python3"
  },
  "language_info": {
   "name": "python",
   "version": "3.10.9"
  },
  "orig_nbformat": 4,
  "vscode": {
   "interpreter": {
    "hash": "adb5264026cbff3876d5ddf253261b8613c63590ca03f9f1d61f1ddf5666fbb6"
   }
  }
 },
 "nbformat": 4,
 "nbformat_minor": 2
}
